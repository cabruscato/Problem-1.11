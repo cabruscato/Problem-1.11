import numpy as np
import matplotlib.pyplot as plt
from scipy import integrate
from numpy.lib import scimath


def deriv(t, r, I_stim):
    """Computes differentials (dV, dm, dh, dn), given initial values (V, m, h, n).

    Args
        t: numpy array, time [s]
        r: numpy array, initial values (V, m, h, n)
        I_stim: external current [μA/cm^2]

    Returns
        dr: numpy array (dV, dm, dh, dn)
    """
    V, m, h, n = r    
    
    alpha_m = 0.1 * (25 - V) / (np.exp((25 - V) / 10) - 1)
    beta_m = 4 * np.exp(-V / 18)
    alpha_h = 0.07 * np.exp(-V / 20)
    beta_h = 1 / (np.exp((30 - V) / 10) + 1)
    alpha_n = 0.01 * (10 - V) / (np.exp((10 - V) / 10) - 1)
    beta_n = 0.125 * np.exp(-V / 80)
    g_Na = 120 # [mS/cm^2]
    g_K = 36
    g_L = 0.3
    C_m = 1 # [μF/cm^2]
    V_Na = 115 # [mV]
    V_K = -12
    V_L = -10.6

    I_ion = g_Na * m**3 * h * (V - V_Na) + g_K * n**4 * (V - V_K) + g_L * (V - V_L)

    dV = (I_stim - I_ion) / C_m
    dm = alpha_m * (1 - m) - beta_m * m
    dh = alpha_h * (1 - h) - beta_h * h
    dn = alpha_n * (1 - n) - beta_n * n

    dr = np.array([dV, dm, dh, dn])

    return dr

t_max = 80
t_span = [0, t_max]
I_stim = 20

r_initial = np.array([0, 0, 0, 0])

soln = integrate.solve_ivp(deriv, t_span, y0=r_initial, args=({I_stim}), dense_output=True)

V_points = soln.y[0]
t_points = soln.t

t_fine = np.linspace(0, t_max, 10**4)

plt.plot(t_points, V_points)
plt.show()



